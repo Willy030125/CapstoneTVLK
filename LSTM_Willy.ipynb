{
 "cells": [
  {
   "cell_type": "markdown",
   "metadata": {
    "colab_type": "text",
    "id": "rNmNWqlKa_8E",
    "tags": []
   },
   "source": [
    "### Load Library"
   ]
  },
  {
   "cell_type": "code",
   "execution_count": 2,
   "metadata": {
    "colab": {
     "base_uri": "https://localhost:8080/",
     "height": 187
    },
    "colab_type": "code",
    "id": "EEq6d7AUa9Wp",
    "outputId": "d490ea40-c639-45ef-9ce9-6071e4247065"
   },
   "outputs": [],
   "source": [
    "import matplotlib.pyplot as plt\n",
    "import numpy as np\n",
    "import pandas as pd\n",
    "from tensorflow.keras import Input, Model\n",
    "from tensorflow.keras.layers import Dense, LSTM\n",
    "from tqdm.notebook import tqdm"
   ]
  },
  {
   "cell_type": "markdown",
   "metadata": {
    "colab_type": "text",
    "id": "UMr5G8xhcCxj"
   },
   "source": [
    "### Read the dataset"
   ]
  },
  {
   "cell_type": "code",
   "execution_count": 3,
   "metadata": {},
   "outputs": [],
   "source": [
    "dataset = pd.read_excel('DATASET KOMODITAS GROCERY + KATEGORI.xlsx')"
   ]
  },
  {
   "cell_type": "code",
   "execution_count": 4,
   "metadata": {},
   "outputs": [
    {
     "name": "stdout",
     "output_type": "stream",
     "text": [
      "(108, 87)\n"
     ]
    }
   ],
   "source": [
    "isan = dataset.iloc[0:, 5:].transpose()\n",
    "print(isan.shape)"
   ]
  },
  {
   "cell_type": "code",
   "execution_count": 5,
   "metadata": {},
   "outputs": [
    {
     "data": {
      "text/html": [
       "<div>\n",
       "<style scoped>\n",
       "    .dataframe tbody tr th:only-of-type {\n",
       "        vertical-align: middle;\n",
       "    }\n",
       "\n",
       "    .dataframe tbody tr th {\n",
       "        vertical-align: top;\n",
       "    }\n",
       "\n",
       "    .dataframe thead th {\n",
       "        text-align: right;\n",
       "    }\n",
       "</style>\n",
       "<table border=\"1\" class=\"dataframe\">\n",
       "  <thead>\n",
       "    <tr style=\"text-align: right;\">\n",
       "      <th></th>\n",
       "      <th>0</th>\n",
       "    </tr>\n",
       "  </thead>\n",
       "  <tbody>\n",
       "    <tr>\n",
       "      <th>2013-01-01</th>\n",
       "      <td>52611</td>\n",
       "    </tr>\n",
       "    <tr>\n",
       "      <th>2013-02-01</th>\n",
       "      <td>60548</td>\n",
       "    </tr>\n",
       "    <tr>\n",
       "      <th>2013-03-01</th>\n",
       "      <td>59561</td>\n",
       "    </tr>\n",
       "    <tr>\n",
       "      <th>2013-04-01</th>\n",
       "      <td>63059</td>\n",
       "    </tr>\n",
       "    <tr>\n",
       "      <th>2013-05-01</th>\n",
       "      <td>62385</td>\n",
       "    </tr>\n",
       "    <tr>\n",
       "      <th>...</th>\n",
       "      <td>...</td>\n",
       "    </tr>\n",
       "    <tr>\n",
       "      <th>2021-08-01</th>\n",
       "      <td>65668</td>\n",
       "    </tr>\n",
       "    <tr>\n",
       "      <th>2021-09-01</th>\n",
       "      <td>60112</td>\n",
       "    </tr>\n",
       "    <tr>\n",
       "      <th>2021-10-01</th>\n",
       "      <td>63743</td>\n",
       "    </tr>\n",
       "    <tr>\n",
       "      <th>2021-11-01</th>\n",
       "      <td>60778</td>\n",
       "    </tr>\n",
       "    <tr>\n",
       "      <th>2021-12-01</th>\n",
       "      <td>62812</td>\n",
       "    </tr>\n",
       "  </tbody>\n",
       "</table>\n",
       "<p>108 rows × 1 columns</p>\n",
       "</div>"
      ],
      "text/plain": [
       "                0\n",
       "2013-01-01  52611\n",
       "2013-02-01  60548\n",
       "2013-03-01  59561\n",
       "2013-04-01  63059\n",
       "2013-05-01  62385\n",
       "...           ...\n",
       "2021-08-01  65668\n",
       "2021-09-01  60112\n",
       "2021-10-01  63743\n",
       "2021-11-01  60778\n",
       "2021-12-01  62812\n",
       "\n",
       "[108 rows x 1 columns]"
      ]
     },
     "execution_count": 5,
     "metadata": {},
     "output_type": "execute_result"
    }
   ],
   "source": [
    "data = isan.iloc[0:, 0:1]\n",
    "data"
   ]
  },
  {
   "cell_type": "markdown",
   "metadata": {
    "colab_type": "text",
    "id": "OxtoyYB_cPJR"
   },
   "source": [
    "### Parameter: Lookback 12 month windows"
   ]
  },
  {
   "cell_type": "code",
   "execution_count": 6,
   "metadata": {
    "colab": {},
    "colab_type": "code",
    "id": "I8TY8aTQcIR4"
   },
   "outputs": [],
   "source": [
    "lookback_window = 12 "
   ]
  },
  {
   "cell_type": "markdown",
   "metadata": {
    "colab_type": "text",
    "id": "zDy7WxEtcV96"
   },
   "source": [
    "### Convert Data into Numpy Array"
   ]
  },
  {
   "cell_type": "code",
   "execution_count": 7,
   "metadata": {},
   "outputs": [],
   "source": [
    "data = data.values"
   ]
  },
  {
   "cell_type": "code",
   "execution_count": 8,
   "metadata": {},
   "outputs": [
    {
     "data": {
      "text/plain": [
       "108"
      ]
     },
     "execution_count": 8,
     "metadata": {},
     "output_type": "execute_result"
    }
   ],
   "source": [
    "len(data)"
   ]
  },
  {
   "cell_type": "markdown",
   "metadata": {
    "colab_type": "text",
    "id": "xTd4_RAhcf_G"
   },
   "source": [
    "### Convert in to X, y format"
   ]
  },
  {
   "cell_type": "code",
   "execution_count": 9,
   "metadata": {
    "colab": {
     "base_uri": "https://localhost:8080/",
     "height": 66,
     "referenced_widgets": [
      "f2df124fb46a42d9a8011c589d478eee",
      "76367dff33c247d88f1c2240be90a0d7",
      "d3193b57a3fd4706bc6dc19aa65b71e1",
      "2e09e1b207e840bca57333c9d7ac6117",
      "e18cae27f2d5475e890a64a948429557",
      "bebf5d0c2d3042f8be7fec73ed15af54",
      "7f5c424416da4871aba7a7c3ad14d68c",
      "498b6f8b6789463887b4b3a6f237d924"
     ]
    },
    "colab_type": "code",
    "id": "QRHxD8-vcZua",
    "outputId": "fe102cc0-2b28-4e6e-efb1-c701ec8f0964"
   },
   "outputs": [
    {
     "data": {
      "application/vnd.jupyter.widget-view+json": {
       "model_id": "02290e5192ba458fa2927fb8014290e8",
       "version_major": 2,
       "version_minor": 0
      },
      "text/plain": [
       "  0%|          | 0/96 [00:00<?, ?it/s]"
      ]
     },
     "metadata": {},
     "output_type": "display_data"
    }
   ],
   "source": [
    "x = []\n",
    "y = []\n",
    "for i in tqdm(range(lookback_window, len(data))):\n",
    "    x.append(data[i - lookback_window:i])\n",
    "    y.append(data[i])"
   ]
  },
  {
   "cell_type": "markdown",
   "metadata": {
    "colab_type": "text",
    "id": "h6NKNRpUdU0e"
   },
   "source": [
    "### Generate Array of list x and y"
   ]
  },
  {
   "cell_type": "code",
   "execution_count": 10,
   "metadata": {
    "colab": {
     "base_uri": "https://localhost:8080/",
     "height": 51
    },
    "colab_type": "code",
    "id": "B3xGy8bec9Q5",
    "outputId": "1fd1af26-ee70-40ef-d3c6-3b060253f1c0"
   },
   "outputs": [
    {
     "name": "stdout",
     "output_type": "stream",
     "text": [
      "(96, 12, 1)\n",
      "(96, 1)\n"
     ]
    }
   ],
   "source": [
    "x = np.array(x)\n",
    "y = np.array(y)\n",
    "print(x.shape)\n",
    "print(y.shape)"
   ]
  },
  {
   "cell_type": "markdown",
   "metadata": {
    "colab_type": "text",
    "id": "3dqsLFT4dk7s"
   },
   "source": [
    "### Model Design"
   ]
  },
  {
   "cell_type": "code",
   "execution_count": 12,
   "metadata": {
    "colab": {
     "base_uri": "https://localhost:8080/",
     "height": 255
    },
    "colab_type": "code",
    "id": "y783wDIxdeke",
    "outputId": "26fb6222-a92a-498c-dda1-2421ad9ea5c8"
   },
   "outputs": [
    {
     "name": "stdout",
     "output_type": "stream",
     "text": [
      "Model: \"model_1\"\n",
      "_________________________________________________________________\n",
      " Layer (type)                Output Shape              Param #   \n",
      "=================================================================\n",
      " input_2 (InputLayer)        [(None, 12, 1)]           0         \n",
      "                                                                 \n",
      " lstm_5 (LSTM)               (None, 64)                16896     \n",
      "                                                                 \n",
      " dense_3 (Dense)             (None, 64)                4160      \n",
      "                                                                 \n",
      " dense_4 (Dense)             (None, 32)                2080      \n",
      "                                                                 \n",
      " dense_5 (Dense)             (None, 1)                 33        \n",
      "                                                                 \n",
      "=================================================================\n",
      "Total params: 23,169\n",
      "Trainable params: 23,169\n",
      "Non-trainable params: 0\n",
      "_________________________________________________________________\n"
     ]
    }
   ],
   "source": [
    "i = Input(shape=(lookback_window, 1))\n",
    "m = LSTM(64, activation='relu')(i)\n",
    "m = LSTM(64, activation='relu')(i)\n",
    "m = LSTM(64, activation='relu')(i)\n",
    "m = Dense(64, activation='linear')(m)\n",
    "m = Dense(32, activation='linear')(m)\n",
    "m = Dense(1, activation='linear')(m)\n",
    "\n",
    "model = Model(inputs=[i], outputs=[m])\n",
    "model.summary()"
   ]
  },
  {
   "cell_type": "code",
   "execution_count": 13,
   "metadata": {
    "colab": {},
    "colab_type": "code",
    "id": "Fsv10DsLdtKy"
   },
   "outputs": [],
   "source": [
    "model.compile('adam','mae')"
   ]
  },
  {
   "cell_type": "markdown",
   "metadata": {
    "colab_type": "text",
    "id": "UjY_u3rid3m0"
   },
   "source": [
    "### Start Training"
   ]
  },
  {
   "cell_type": "code",
   "execution_count": 14,
   "metadata": {
    "colab": {
     "base_uri": "https://localhost:8080/",
     "height": 1000
    },
    "colab_type": "code",
    "id": "rfU_56-zd0eC",
    "outputId": "956257c6-9c51-4c3d-b007-752b10849ac9"
   },
   "outputs": [
    {
     "name": "stdout",
     "output_type": "stream",
     "text": [
      "Epoch 1/100\n",
      "3/3 [==============================] - 1s 9ms/step - loss: 35021.2188\n",
      "Epoch 2/100\n",
      "3/3 [==============================] - 0s 8ms/step - loss: 12482.2803\n",
      "Epoch 3/100\n",
      "3/3 [==============================] - 0s 9ms/step - loss: 24728.5254\n",
      "Epoch 4/100\n",
      "3/3 [==============================] - 0s 9ms/step - loss: 33894.3281\n",
      "Epoch 5/100\n",
      "3/3 [==============================] - 0s 8ms/step - loss: 17467.0527\n",
      "Epoch 6/100\n",
      "3/3 [==============================] - 0s 9ms/step - loss: 6849.1528\n",
      "Epoch 7/100\n",
      "3/3 [==============================] - 0s 9ms/step - loss: 8440.0244\n",
      "Epoch 8/100\n",
      "3/3 [==============================] - 0s 8ms/step - loss: 10770.7070\n",
      "Epoch 9/100\n",
      "3/3 [==============================] - 0s 9ms/step - loss: 5833.2832\n",
      "Epoch 10/100\n",
      "3/3 [==============================] - 0s 8ms/step - loss: 6772.3125\n",
      "Epoch 11/100\n",
      "3/3 [==============================] - 0s 8ms/step - loss: 8497.7803\n",
      "Epoch 12/100\n",
      "3/3 [==============================] - 0s 8ms/step - loss: 7004.2183\n",
      "Epoch 13/100\n",
      "3/3 [==============================] - 0s 8ms/step - loss: 24349.8594\n",
      "Epoch 14/100\n",
      "3/3 [==============================] - 0s 9ms/step - loss: 55502.8750\n",
      "Epoch 15/100\n",
      "3/3 [==============================] - 0s 8ms/step - loss: 56056.8398\n",
      "Epoch 16/100\n",
      "3/3 [==============================] - 0s 8ms/step - loss: 55935.9375\n",
      "Epoch 17/100\n",
      "3/3 [==============================] - 0s 8ms/step - loss: 55218.3555\n",
      "Epoch 18/100\n",
      "3/3 [==============================] - 0s 8ms/step - loss: 54016.5000\n",
      "Epoch 19/100\n",
      "3/3 [==============================] - 0s 8ms/step - loss: 52359.6367\n",
      "Epoch 20/100\n",
      "3/3 [==============================] - 0s 9ms/step - loss: 50327.6680\n",
      "Epoch 21/100\n",
      "3/3 [==============================] - 0s 8ms/step - loss: 48098.5352\n",
      "Epoch 22/100\n",
      "3/3 [==============================] - 0s 8ms/step - loss: 45677.6680\n",
      "Epoch 23/100\n",
      "3/3 [==============================] - 0s 8ms/step - loss: 43032.2773\n",
      "Epoch 24/100\n",
      "3/3 [==============================] - 0s 8ms/step - loss: 40162.7383\n",
      "Epoch 25/100\n",
      "3/3 [==============================] - 0s 9ms/step - loss: 37040.3125\n",
      "Epoch 26/100\n",
      "3/3 [==============================] - 0s 8ms/step - loss: 33635.8906\n",
      "Epoch 27/100\n",
      "3/3 [==============================] - 0s 8ms/step - loss: 29909.1426\n",
      "Epoch 28/100\n",
      "3/3 [==============================] - 0s 8ms/step - loss: 25837.8730\n",
      "Epoch 29/100\n",
      "3/3 [==============================] - 0s 9ms/step - loss: 21367.0312\n",
      "Epoch 30/100\n",
      "3/3 [==============================] - 0s 9ms/step - loss: 16472.4199\n",
      "Epoch 31/100\n",
      "3/3 [==============================] - 0s 8ms/step - loss: 11069.5693\n",
      "Epoch 32/100\n",
      "3/3 [==============================] - 0s 9ms/step - loss: 5131.7671\n",
      "Epoch 33/100\n",
      "3/3 [==============================] - 0s 8ms/step - loss: 2299.7756\n",
      "Epoch 34/100\n",
      "3/3 [==============================] - 0s 8ms/step - loss: 5139.2812\n",
      "Epoch 35/100\n",
      "3/3 [==============================] - 0s 8ms/step - loss: 5978.5020\n",
      "Epoch 36/100\n",
      "3/3 [==============================] - 0s 8ms/step - loss: 4428.7407\n",
      "Epoch 37/100\n",
      "3/3 [==============================] - 0s 9ms/step - loss: 2299.9478\n",
      "Epoch 38/100\n",
      "3/3 [==============================] - 0s 8ms/step - loss: 2197.8367\n",
      "Epoch 39/100\n",
      "3/3 [==============================] - 0s 8ms/step - loss: 2854.1008\n",
      "Epoch 40/100\n",
      "3/3 [==============================] - 0s 8ms/step - loss: 2363.8015\n",
      "Epoch 41/100\n",
      "3/3 [==============================] - 0s 8ms/step - loss: 1799.9352\n",
      "Epoch 42/100\n",
      "3/3 [==============================] - 0s 8ms/step - loss: 2009.7640\n",
      "Epoch 43/100\n",
      "3/3 [==============================] - 0s 8ms/step - loss: 2104.1448\n",
      "Epoch 44/100\n",
      "3/3 [==============================] - 0s 8ms/step - loss: 1902.4391\n",
      "Epoch 45/100\n",
      "3/3 [==============================] - 0s 8ms/step - loss: 1900.4176\n",
      "Epoch 46/100\n",
      "3/3 [==============================] - 0s 8ms/step - loss: 1922.7373\n",
      "Epoch 47/100\n",
      "3/3 [==============================] - 0s 8ms/step - loss: 1900.7902\n",
      "Epoch 48/100\n",
      "3/3 [==============================] - 0s 8ms/step - loss: 1846.7094\n",
      "Epoch 49/100\n",
      "3/3 [==============================] - 0s 8ms/step - loss: 1860.7670\n",
      "Epoch 50/100\n",
      "3/3 [==============================] - 0s 8ms/step - loss: 1864.5981\n",
      "Epoch 51/100\n",
      "3/3 [==============================] - 0s 7ms/step - loss: 1861.3148\n",
      "Epoch 52/100\n",
      "3/3 [==============================] - 0s 8ms/step - loss: 1838.7490\n",
      "Epoch 53/100\n",
      "3/3 [==============================] - 0s 8ms/step - loss: 1836.0465\n",
      "Epoch 54/100\n",
      "3/3 [==============================] - 0s 8ms/step - loss: 1845.4000\n",
      "Epoch 55/100\n",
      "3/3 [==============================] - 0s 7ms/step - loss: 1851.3119\n",
      "Epoch 56/100\n",
      "3/3 [==============================] - 0s 8ms/step - loss: 1839.3356\n",
      "Epoch 57/100\n",
      "3/3 [==============================] - 0s 7ms/step - loss: 1839.7272\n",
      "Epoch 58/100\n",
      "3/3 [==============================] - 0s 8ms/step - loss: 1840.0922\n",
      "Epoch 59/100\n",
      "3/3 [==============================] - 0s 8ms/step - loss: 1850.4598\n",
      "Epoch 60/100\n",
      "3/3 [==============================] - 0s 8ms/step - loss: 1838.7487\n",
      "Epoch 61/100\n",
      "3/3 [==============================] - 0s 9ms/step - loss: 1840.7037\n",
      "Epoch 62/100\n",
      "3/3 [==============================] - 0s 8ms/step - loss: 1850.0092\n",
      "Epoch 63/100\n",
      "3/3 [==============================] - 0s 8ms/step - loss: 1841.4926\n",
      "Epoch 64/100\n",
      "3/3 [==============================] - 0s 8ms/step - loss: 1850.9486\n",
      "Epoch 65/100\n",
      "3/3 [==============================] - 0s 9ms/step - loss: 1849.4219\n",
      "Epoch 66/100\n",
      "3/3 [==============================] - 0s 9ms/step - loss: 1837.8995\n",
      "Epoch 67/100\n",
      "3/3 [==============================] - 0s 9ms/step - loss: 1837.3282\n",
      "Epoch 68/100\n",
      "3/3 [==============================] - 0s 8ms/step - loss: 1851.3949\n",
      "Epoch 69/100\n",
      "3/3 [==============================] - 0s 9ms/step - loss: 1845.6890\n",
      "Epoch 70/100\n",
      "3/3 [==============================] - 0s 9ms/step - loss: 1838.2260\n",
      "Epoch 71/100\n",
      "3/3 [==============================] - 0s 8ms/step - loss: 1841.2845\n",
      "Epoch 72/100\n",
      "3/3 [==============================] - 0s 8ms/step - loss: 1840.9869\n",
      "Epoch 73/100\n",
      "3/3 [==============================] - 0s 8ms/step - loss: 1838.1141\n",
      "Epoch 74/100\n",
      "3/3 [==============================] - 0s 8ms/step - loss: 1841.6393\n",
      "Epoch 75/100\n",
      "3/3 [==============================] - 0s 8ms/step - loss: 1850.0221\n",
      "Epoch 76/100\n",
      "3/3 [==============================] - 0s 9ms/step - loss: 1839.3087\n",
      "Epoch 77/100\n",
      "3/3 [==============================] - 0s 8ms/step - loss: 1854.3398\n",
      "Epoch 78/100\n",
      "3/3 [==============================] - 0s 8ms/step - loss: 1839.2104\n",
      "Epoch 79/100\n",
      "3/3 [==============================] - 0s 8ms/step - loss: 1841.8075\n",
      "Epoch 80/100\n",
      "3/3 [==============================] - 0s 8ms/step - loss: 1847.0172\n",
      "Epoch 81/100\n",
      "3/3 [==============================] - 0s 8ms/step - loss: 1848.0841\n",
      "Epoch 82/100\n",
      "3/3 [==============================] - 0s 8ms/step - loss: 1847.5699\n",
      "Epoch 83/100\n",
      "3/3 [==============================] - 0s 8ms/step - loss: 1840.9219\n",
      "Epoch 84/100\n",
      "3/3 [==============================] - 0s 8ms/step - loss: 1900.8571\n",
      "Epoch 85/100\n",
      "3/3 [==============================] - 0s 8ms/step - loss: 1844.1953\n",
      "Epoch 86/100\n",
      "3/3 [==============================] - 0s 8ms/step - loss: 1863.9027\n",
      "Epoch 87/100\n",
      "3/3 [==============================] - 0s 8ms/step - loss: 1849.0018\n",
      "Epoch 88/100\n",
      "3/3 [==============================] - 0s 8ms/step - loss: 1843.7162\n",
      "Epoch 89/100\n",
      "3/3 [==============================] - 0s 8ms/step - loss: 1845.5106\n",
      "Epoch 90/100\n",
      "3/3 [==============================] - 0s 8ms/step - loss: 1841.4576\n",
      "Epoch 91/100\n",
      "3/3 [==============================] - 0s 8ms/step - loss: 1838.9945\n",
      "Epoch 92/100\n",
      "3/3 [==============================] - 0s 8ms/step - loss: 1843.4922\n",
      "Epoch 93/100\n",
      "3/3 [==============================] - 0s 8ms/step - loss: 1848.0596\n",
      "Epoch 94/100\n",
      "3/3 [==============================] - 0s 9ms/step - loss: 1849.4100\n",
      "Epoch 95/100\n",
      "3/3 [==============================] - 0s 9ms/step - loss: 1839.9087\n",
      "Epoch 96/100\n",
      "3/3 [==============================] - 0s 8ms/step - loss: 1845.8271\n",
      "Epoch 97/100\n",
      "3/3 [==============================] - 0s 9ms/step - loss: 1844.0785\n",
      "Epoch 98/100\n",
      "3/3 [==============================] - 0s 9ms/step - loss: 1840.2950\n",
      "Epoch 99/100\n",
      "3/3 [==============================] - 0s 9ms/step - loss: 1838.1295\n",
      "Epoch 100/100\n",
      "3/3 [==============================] - 0s 8ms/step - loss: 1863.3575\n"
     ]
    },
    {
     "data": {
      "text/plain": [
       "<keras.callbacks.History at 0x7fccb8562ac0>"
      ]
     },
     "execution_count": 14,
     "metadata": {},
     "output_type": "execute_result"
    }
   ],
   "source": [
    "model.fit(x, y, epochs=100)"
   ]
  },
  {
   "cell_type": "markdown",
   "metadata": {},
   "source": [
    "### Performance Evaluation"
   ]
  },
  {
   "cell_type": "code",
   "execution_count": 15,
   "metadata": {},
   "outputs": [
    {
     "data": {
      "text/plain": [
       "[<matplotlib.lines.Line2D at 0x7fcc9e5a1340>]"
      ]
     },
     "execution_count": 15,
     "metadata": {},
     "output_type": "execute_result"
    },
    {
     "data": {
      "image/png": "[encoded data removed]",
      "text/plain": [
       "<Figure size 432x288 with 1 Axes>"
      ]
     },
     "metadata": {
      "needs_background": "light"
     },
     "output_type": "display_data"
    }
   ],
   "source": [
    "loss_per_epoch = model.history.history['loss']\n",
    "plt.plot(range(len(loss_per_epoch)),loss_per_epoch)"
   ]
  },
  {
   "cell_type": "markdown",
   "metadata": {
    "colab_type": "text",
    "id": "CDtjBtPQf1pd"
   },
   "source": [
    "### Prediction with LSTM Model"
   ]
  },
  {
   "cell_type": "code",
   "execution_count": 16,
   "metadata": {
    "colab": {},
    "colab_type": "code",
    "id": "SMEjd-8Gd-VK"
   },
   "outputs": [],
   "source": [
    "predict = model.predict(x)\n",
    "# TODO: bikin predict 12 bulan"
   ]
  },
  {
   "cell_type": "markdown",
   "metadata": {
    "colab_type": "text",
    "id": "i-7DoomPf5ak"
   },
   "source": [
    "### Plot the Result"
   ]
  },
  {
   "cell_type": "code",
   "execution_count": 17,
   "metadata": {
    "colab": {
     "base_uri": "https://localhost:8080/",
     "height": 500
    },
    "colab_type": "code",
    "id": "x9EpeosteOkK",
    "outputId": "0df79df5-6d18-4fa6-ac7d-e78d57dd0381"
   },
   "outputs": [
    {
     "data": {
      "image/png": "[encoded data removed]",
      "text/plain": [
       "<Figure size 1080x504 with 1 Axes>"
      ]
     },
     "metadata": {},
     "output_type": "display_data"
    }
   ],
   "source": [
    "komoditas = [i for i in dataset['komoditas']]\n",
    "satuan = [i for i in dataset['satuan']]\n",
    "plt.style.use(\"fivethirtyeight\")\n",
    "plt.figure(figsize = (15,7))\n",
    "plt.plot(predict)\n",
    "plt.plot(y)\n",
    "plt.title('Komoditas: {}, menggunakan LSTM'.format(komoditas[0]))\n",
    "plt.legend(['predicted', 'actual'])\n",
    "plt.xlabel(\"Months Counts\")\n",
    "plt.ylabel(\"{} dalam satuan {}\".format(komoditas[0], satuan[0]))\n",
    "plt.show()"
   ]
  },
  {
   "cell_type": "code",
   "execution_count": 18,
   "metadata": {},
   "outputs": [
    {
     "name": "stdout",
     "output_type": "stream",
     "text": [
      "2311.7368210094796\n"
     ]
    }
   ],
   "source": [
    "from sklearn.metrics import mean_squared_error\n",
    "from math import sqrt\n",
    "rmse=sqrt(mean_squared_error(y, predict))\n",
    "print(rmse)"
   ]
  },
  {
   "cell_type": "code",
   "execution_count": 52,
   "metadata": {},
   "outputs": [],
   "source": [
    "# export the model\n",
    "model.save('LSTM_Willy.h5')"
   ]
  },
  {
   "cell_type": "code",
   "execution_count": null,
   "metadata": {},
   "outputs": [],
   "source": []
  }
 ],
 "metadata": {
  "colab": {
   "authorship_tag": "ABX9TyMraTlQ8kv+xnwl20VqvBEw",
   "include_colab_link": true,
   "name": "TCN_TimeSeries Approach.ipynb",
   "provenance": [],
   "toc_visible": true
  },
  "kernelspec": {
   "display_name": "Python 3 (ipykernel)",
   "language": "python",
   "name": "python3"
  },
  "language_info": {
   "codemirror_mode": {
    "name": "ipython",
    "version": 3
   },
   "file_extension": ".py",
   "mimetype": "text/x-python",
   "name": "python",
   "nbconvert_exporter": "python",
   "pygments_lexer": "ipython3",
   "version": "3.8.10"
  },
  "widgets": {
   "application/vnd.jupyter.widget-state+json": {
    "2e09e1b207e840bca57333c9d7ac6117": {
     "model_module": "@jupyter-widgets/controls",
     "model_name": "HTMLModel",
     "state": {
      "_dom_classes": [],
      "_model_module": "@jupyter-widgets/controls",
      "_model_module_version": "1.5.0",
      "_model_name": "HTMLModel",
      "_view_count": null,
      "_view_module": "@jupyter-widgets/controls",
      "_view_module_version": "1.5.0",
      "_view_name": "HTMLView",
      "description": "",
      "description_tooltip": null,
      "layout": "IPY_MODEL_498b6f8b6789463887b4b3a6f237d924",
      "placeholder": "​",
      "style": "IPY_MODEL_7f5c424416da4871aba7a7c3ad14d68c",
      "value": " 156/156 [03:57&lt;00:00,  1.53s/it]"
     }
    },
    "498b6f8b6789463887b4b3a6f237d924": {
     "model_module": "@jupyter-widgets/base",
     "model_name": "LayoutModel",
     "state": {
      "_model_module": "@jupyter-widgets/base",
      "_model_module_version": "1.2.0",
      "_model_name": "LayoutModel",
      "_view_count": null,
      "_view_module": "@jupyter-widgets/base",
      "_view_module_version": "1.2.0",
      "_view_name": "LayoutView",
      "align_content": null,
      "align_items": null,
      "align_self": null,
      "border": null,
      "bottom": null,
      "display": null,
      "flex": null,
      "flex_flow": null,
      "grid_area": null,
      "grid_auto_columns": null,
      "grid_auto_flow": null,
      "grid_auto_rows": null,
      "grid_column": null,
      "grid_gap": null,
      "grid_row": null,
      "grid_template_areas": null,
      "grid_template_columns": null,
      "grid_template_rows": null,
      "height": null,
      "justify_content": null,
      "justify_items": null,
      "left": null,
      "margin": null,
      "max_height": null,
      "max_width": null,
      "min_height": null,
      "min_width": null,
      "object_fit": null,
      "object_position": null,
      "order": null,
      "overflow": null,
      "overflow_x": null,
      "overflow_y": null,
      "padding": null,
      "right": null,
      "top": null,
      "visibility": null,
      "width": null
     }
    },
    "76367dff33c247d88f1c2240be90a0d7": {
     "model_module": "@jupyter-widgets/base",
     "model_name": "LayoutModel",
     "state": {
      "_model_module": "@jupyter-widgets/base",
      "_model_module_version": "1.2.0",
      "_model_name": "LayoutModel",
      "_view_count": null,
      "_view_module": "@jupyter-widgets/base",
      "_view_module_version": "1.2.0",
      "_view_name": "LayoutView",
      "align_content": null,
      "align_items": null,
      "align_self": null,
      "border": null,
      "bottom": null,
      "display": null,
      "flex": null,
      "flex_flow": null,
      "grid_area": null,
      "grid_auto_columns": null,
      "grid_auto_flow": null,
      "grid_auto_rows": null,
      "grid_column": null,
      "grid_gap": null,
      "grid_row": null,
      "grid_template_areas": null,
      "grid_template_columns": null,
      "grid_template_rows": null,
      "height": null,
      "justify_content": null,
      "justify_items": null,
      "left": null,
      "margin": null,
      "max_height": null,
      "max_width": null,
      "min_height": null,
      "min_width": null,
      "object_fit": null,
      "object_position": null,
      "order": null,
      "overflow": null,
      "overflow_x": null,
      "overflow_y": null,
      "padding": null,
      "right": null,
      "top": null,
      "visibility": null,
      "width": null
     }
    },
    "7f5c424416da4871aba7a7c3ad14d68c": {
     "model_module": "@jupyter-widgets/controls",
     "model_name": "DescriptionStyleModel",
     "state": {
      "_model_module": "@jupyter-widgets/controls",
      "_model_module_version": "1.5.0",
      "_model_name": "DescriptionStyleModel",
      "_view_count": null,
      "_view_module": "@jupyter-widgets/base",
      "_view_module_version": "1.2.0",
      "_view_name": "StyleView",
      "description_width": ""
     }
    },
    "bebf5d0c2d3042f8be7fec73ed15af54": {
     "model_module": "@jupyter-widgets/base",
     "model_name": "LayoutModel",
     "state": {
      "_model_module": "@jupyter-widgets/base",
      "_model_module_version": "1.2.0",
      "_model_name": "LayoutModel",
      "_view_count": null,
      "_view_module": "@jupyter-widgets/base",
      "_view_module_version": "1.2.0",
      "_view_name": "LayoutView",
      "align_content": null,
      "align_items": null,
      "align_self": null,
      "border": null,
      "bottom": null,
      "display": null,
      "flex": null,
      "flex_flow": null,
      "grid_area": null,
      "grid_auto_columns": null,
      "grid_auto_flow": null,
      "grid_auto_rows": null,
      "grid_column": null,
      "grid_gap": null,
      "grid_row": null,
      "grid_template_areas": null,
      "grid_template_columns": null,
      "grid_template_rows": null,
      "height": null,
      "justify_content": null,
      "justify_items": null,
      "left": null,
      "margin": null,
      "max_height": null,
      "max_width": null,
      "min_height": null,
      "min_width": null,
      "object_fit": null,
      "object_position": null,
      "order": null,
      "overflow": null,
      "overflow_x": null,
      "overflow_y": null,
      "padding": null,
      "right": null,
      "top": null,
      "visibility": null,
      "width": null
     }
    },
    "d3193b57a3fd4706bc6dc19aa65b71e1": {
     "model_module": "@jupyter-widgets/controls",
     "model_name": "FloatProgressModel",
     "state": {
      "_dom_classes": [],
      "_model_module": "@jupyter-widgets/controls",
      "_model_module_version": "1.5.0",
      "_model_name": "FloatProgressModel",
      "_view_count": null,
      "_view_module": "@jupyter-widgets/controls",
      "_view_module_version": "1.5.0",
      "_view_name": "ProgressView",
      "bar_style": "success",
      "description": "100%",
      "description_tooltip": null,
      "layout": "IPY_MODEL_bebf5d0c2d3042f8be7fec73ed15af54",
      "max": 156,
      "min": 0,
      "orientation": "horizontal",
      "style": "IPY_MODEL_e18cae27f2d5475e890a64a948429557",
      "value": 156
     }
    },
    "e18cae27f2d5475e890a64a948429557": {
     "model_module": "@jupyter-widgets/controls",
     "model_name": "ProgressStyleModel",
     "state": {
      "_model_module": "@jupyter-widgets/controls",
      "_model_module_version": "1.5.0",
      "_model_name": "ProgressStyleModel",
      "_view_count": null,
      "_view_module": "@jupyter-widgets/base",
      "_view_module_version": "1.2.0",
      "_view_name": "StyleView",
      "bar_color": null,
      "description_width": "initial"
     }
    },
    "f2df124fb46a42d9a8011c589d478eee": {
     "model_module": "@jupyter-widgets/controls",
     "model_name": "HBoxModel",
     "state": {
      "_dom_classes": [],
      "_model_module": "@jupyter-widgets/controls",
      "_model_module_version": "1.5.0",
      "_model_name": "HBoxModel",
      "_view_count": null,
      "_view_module": "@jupyter-widgets/controls",
      "_view_module_version": "1.5.0",
      "_view_name": "HBoxView",
      "box_style": "",
      "children": [
       "IPY_MODEL_d3193b57a3fd4706bc6dc19aa65b71e1",
       "IPY_MODEL_2e09e1b207e840bca57333c9d7ac6117"
      ],
      "layout": "IPY_MODEL_76367dff33c247d88f1c2240be90a0d7"
     }
    }
   }
  }
 },
 "nbformat": 4,
 "nbformat_minor": 4
}
